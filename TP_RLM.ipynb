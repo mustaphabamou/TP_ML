{
 "cells": [
  {
   "cell_type": "markdown",
   "metadata": {},
   "source": [
    "----------"
   ]
  },
  {
   "cell_type": "code",
   "execution_count": 12,
   "metadata": {},
   "outputs": [],
   "source": [
    "happpiness= csvread(\"Happiness_.csv\");\n",
    "happpiness(1:10,:);\n",
    "X=[ones(155,1),happpiness(:,3:6)];\n",
    "y=happpiness(:,2);\n",
    "theta = [1;1;1;1;1];\n",
    "alpha=0.01;"
   ]
  },
  {
   "cell_type": "code",
   "execution_count": 13,
   "metadata": {},
   "outputs": [],
   "source": [
    "function [t] = descenteDuGradientMultiple(X,y,theta,alpha)\n",
    "    nombreIteratin = 11125; %nombre d'itérations\n",
    "    m = length(y);\n",
    "    \n",
    "    for i = 1: nombreIteratin\n",
    "        h = X*theta;\n",
    "        for j= 1: length(theta)\n",
    "            theta(j)  = theta(j) - alpha * (1/m) * (sum((h - y) .* (X(:,j))));\n",
    "        end         \n",
    "    end \n",
    "    t = theta;\n",
    "endfunction"
   ]
  },
  {
   "cell_type": "code",
   "execution_count": 14,
   "metadata": {},
   "outputs": [
    {
     "name": "stdout",
     "output_type": "stream",
     "text": [
      "t =\n",
      "\n",
      "   1.90039\n",
      "   0.79914\n",
      "   1.06489\n",
      "   1.10811\n",
      "   1.74921\n",
      "\n"
     ]
    }
   ],
   "source": [
    "t=descenteDuGradientMultiple(X,y,theta,0.01)"
   ]
  },
  {
   "cell_type": "markdown",
   "metadata": {},
   "source": [
    "-------"
   ]
  }
 ],
 "metadata": {
  "kernelspec": {
   "display_name": "Octave",
   "language": "octave",
   "name": "octave"
  },
  "language_info": {
   "file_extension": ".m",
   "help_links": [
    {
     "text": "GNU Octave",
     "url": "https://www.gnu.org/software/octave/support.html"
    },
    {
     "text": "Octave Kernel",
     "url": "https://github.com/Calysto/octave_kernel"
    },
    {
     "text": "MetaKernel Magics",
     "url": "https://metakernel.readthedocs.io/en/latest/source/README.html"
    }
   ],
   "mimetype": "text/x-octave",
   "name": "octave",
   "version": "4.0.3"
  }
 },
 "nbformat": 4,
 "nbformat_minor": 2
}
