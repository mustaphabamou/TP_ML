{
 "cells": [
  {
   "cell_type": "markdown",
   "metadata": {},
   "source": [
    "----------"
   ]
  },
  {
   "cell_type": "code",
   "execution_count": 143,
   "metadata": {},
   "outputs": [],
   "source": [
    "happpiness= csvread(\"Happiness_.csv\");\n",
    "happpiness(1:10,:);\n",
    "X=[ones(155,1),happpiness(:,3)];\n",
    "y=happpiness(:,2);\n",
    "theta = [1;1];\n",
    "alpha=0.01;"
   ]
  },
  {
   "cell_type": "code",
   "execution_count": 144,
   "metadata": {},
   "outputs": [],
   "source": [
    "function c=cout(theta,X,y)\n",
    "    m=size(X)(2);\n",
    "    i=0;\n",
    "    c=0;\n",
    "    \n",
    "    for i=1:m\n",
    "        h(i)=transpose(theta)*X(:,i);\n",
    "        c=c+(h(i)-y(i))^2;\n",
    "    endfor\n",
    "    \n",
    "    c=(1/(2*m))*c;\n",
    "endfunction"
   ]
  },
  {
   "cell_type": "code",
   "execution_count": 145,
   "metadata": {},
   "outputs": [
    {
     "name": "stdout",
     "output_type": "stream",
     "text": [
      "c =  6.4419\n"
     ]
    }
   ],
   "source": [
    "c=cout(theta,X',y)"
   ]
  },
  {
   "cell_type": "code",
   "execution_count": 154,
   "metadata": {},
   "outputs": [],
   "source": [
    "function [t] = descenteDuGradientSimple(X,y,theta,alpha)\n",
    "    nombreIteratin = 11125; %nombre d'itérations\n",
    "    m = length(y);\n",
    "    \n",
    "    x= X(:,2);\n",
    "    \n",
    "    for i = 1: nombreIteratin\n",
    "        h = theta(1) + (theta(2)*x);\n",
    "        theta_zero = theta(1) - alpha * (1/m) * (sum(h-y));\n",
    "        theta_one  = theta(2) - alpha * (1/m) * (sum((h - y) .* x));\n",
    "        theta = [theta_zero; theta_one];\n",
    "    end \n",
    "    t = theta;\n",
    "endfunction"
   ]
  },
  {
   "cell_type": "code",
   "execution_count": 155,
   "metadata": {},
   "outputs": [
    {
     "name": "stdout",
     "output_type": "stream",
     "text": [
      "t =\n",
      "\n",
      "   3.4060\n",
      "   2.2043\n",
      "\n"
     ]
    }
   ],
   "source": [
    "t=descenteDuGradientSimple(X,y,theta,0.01)"
   ]
  },
  {
   "cell_type": "code",
   "execution_count": 160,
   "metadata": {},
   "outputs": [
    {
     "data": {
      "image/png": "[encoded data removed]",
      "text/plain": [
       "<IPython.core.display.Image object>"
      ]
     },
     "metadata": {},
     "output_type": "display_data"
    }
   ],
   "source": [
    "plot(X(:,2),y,'+')\n",
    "hold on\n",
    "plot(X(:,2),X*t,'o')\n",
    "hold off"
   ]
  },
  {
   "cell_type": "code",
   "execution_count": 161,
   "metadata": {},
   "outputs": [
    {
     "name": "stdout",
     "output_type": "stream",
     "text": [
      "pays =\n",
      "\n",
      "   1.0000   1.2460\n",
      "\n",
      "score =  6.1525\n"
     ]
    }
   ],
   "source": [
    "pays  = [1, 1.246]\n",
    "score = pays*t "
   ]
  },
  {
   "cell_type": "markdown",
   "metadata": {},
   "source": [
    "-------"
   ]
  },
  {
   "cell_type": "code",
   "execution_count": null,
   "metadata": {},
   "outputs": [],
   "source": []
  }
 ],
 "metadata": {
  "kernelspec": {
   "display_name": "Octave",
   "language": "octave",
   "name": "octave"
  },
  "language_info": {
   "file_extension": ".m",
   "help_links": [
    {
     "text": "GNU Octave",
     "url": "https://www.gnu.org/software/octave/support.html"
    },
    {
     "text": "Octave Kernel",
     "url": "https://github.com/Calysto/octave_kernel"
    },
    {
     "text": "MetaKernel Magics",
     "url": "https://metakernel.readthedocs.io/en/latest/source/README.html"
    }
   ],
   "mimetype": "text/x-octave",
   "name": "octave",
   "version": "4.0.3"
  }
 },
 "nbformat": 4,
 "nbformat_minor": 2
}
